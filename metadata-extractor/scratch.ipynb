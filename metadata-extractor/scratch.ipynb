{
 "cells": [
  {
   "cell_type": "code",
   "execution_count": null,
   "id": "e48cd81b",
   "metadata": {},
   "outputs": [],
   "source": [
    "import spacy\n",
    "import pandas as pd\n",
    "# nlp = spacy.load(\"en_core_web_sm\")\n",
    "nlp = spacy.load(\"en_core_web_trf\")\n",
    "\n",
    "\n",
    "def print_tokens(skill_name: str):\n",
    "    doc = nlp(skill_name)\n",
    "    for token in doc:\n",
    "        print(token.text, token.pos_,)\n",
    "\n"
   ]
  },
  {
   "cell_type": "code",
   "execution_count": 2,
   "id": "5fba3b73",
   "metadata": {},
   "outputs": [
    {
     "name": "stdout",
     "output_type": "stream",
     "text": [
      "Isolate PROPN\n",
      "sounds VERB\n",
      "in ADP\n",
      "grade NOUN\n",
      "- PUNCT\n",
      "appropriate ADJ\n",
      "words NOUN\n",
      "with ADP\n",
      "four NUM\n",
      "to PART\n",
      "five NUM\n",
      "phonemes NOUN\n",
      "( PUNCT\n",
      "e.g. ADV\n",
      ", PUNCT\n",
      "baby NOUN\n",
      ", PUNCT\n",
      "river NOUN\n",
      ", PUNCT\n",
      "seven NUM\n",
      ") PUNCT\n"
     ]
    }
   ],
   "source": [
    "print_tokens(\"Isolate sounds in grade-appropriate words with four to five phonemes (e.g., baby, river, seven)\")"
   ]
  }
 ],
 "metadata": {
  "kernelspec": {
   "display_name": "hack",
   "language": "python",
   "name": "python3"
  },
  "language_info": {
   "codemirror_mode": {
    "name": "ipython",
    "version": 3
   },
   "file_extension": ".py",
   "mimetype": "text/x-python",
   "name": "python",
   "nbconvert_exporter": "python",
   "pygments_lexer": "ipython3",
   "version": "3.10.18"
  }
 },
 "nbformat": 4,
 "nbformat_minor": 5
}
